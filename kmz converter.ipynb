{
 "cells": [
  {
   "cell_type": "code",
   "execution_count": null,
   "metadata": {},
   "outputs": [],
   "source": [
    "import subprocess\n",
    "\n",
    "subprocess.run(\"ren *.kmz *.zip\", shell=True) #change .kmz file to .zip\n",
    "\n",
    "#for all the files with .zip extensions: unzip the file & rename the doc.kml & delete old doc.kml\n",
    "subprocess.run (\"for %f in (*.zip) do unzip \\\"%~nf.zip\\\"& ren doc.kml \\\"%~nf.kml\\\"& del doc.kml\", shell=True)\n",
    "\n",
    "#delete all remaining zip file\n",
    "subprocess.run(\"del *.zip\", shell=True)"
   ]
  },
  {
   "cell_type": "code",
   "execution_count": null,
   "metadata": {},
   "outputs": [],
   "source": [
    "#Get the root so as to begin exploring the file\n",
    "import xml.etree.ElementTree as ET\n",
    "tree = ET.parse('filename.kml')\n",
    "root = tree.getroot()"
   ]
  }
 ],
 "metadata": {
  "kernelspec": {
   "display_name": "Python 3",
   "language": "python",
   "name": "python3"
  },
  "language_info": {
   "codemirror_mode": {
    "name": "ipython",
    "version": 3
   },
   "file_extension": ".py",
   "mimetype": "text/x-python",
   "name": "python",
   "nbconvert_exporter": "python",
   "pygments_lexer": "ipython3",
   "version": "3.6.8"
  }
 },
 "nbformat": 4,
 "nbformat_minor": 2
}
